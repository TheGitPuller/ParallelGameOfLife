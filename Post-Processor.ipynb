{
 "cells": [
  {
   "cell_type": "markdown",
   "metadata": {},
   "source": [
    "### Post-Processor for parallelised Conway's Game of Life\n",
    "\n",
    "This Python script collates information from the program outputs to generate a video of Conway's Game of Life being played across multiple processors."
   ]
  },
  {
   "cell_type": "code",
   "execution_count": null,
   "metadata": {},
   "outputs": [],
   "source": [
    "%matplotlib inline\n",
    "import numpy as np\n",
    "import matplotlib.pyplot as plt\n",
    "from os import listdir\n",
    "import matplotlib.animation as anim\n",
    "from IPython.display import HTML"
   ]
  },
  {
   "cell_type": "code",
   "execution_count": null,
   "metadata": {},
   "outputs": [],
   "source": [
    "# Data paths (delete as appropriate)\n",
    "# MVSC (Windows users):\n",
    "path = './x64/Release/'\n",
    "# Linux/iOS users:\n",
    "#path = './Life/'\n",
    "\n",
    "\n",
    "# Initialise the number of processors to occupy domain in each direction\n",
    "n_proc_rows = 0\n",
    "n_proc_cols = 0\n",
    "# Extract macro-info using file titles\n",
    "for file in listdir(path + 'meta/'):\n",
    "    i = int(file.split('_')[0])\n",
    "    j = int(file.split('_')[1])\n",
    "    if (i > n_proc_rows):\n",
    "        n_proc_rows = i;\n",
    "    if (j > n_proc_cols):\n",
    "        n_proc_cols = j;\n",
    "# Make number inclusive        \n",
    "n_proc_rows += 1;\n",
    "n_proc_cols += 1;\n",
    "n_procs = n_proc_rows*n_proc_cols\n",
    "# Infer number of iterations from metadata\n",
    "iter = int(listdir(path + 'meta/')[0].split('_')[2])\n",
    "# Initialise arrays to signify what processor sits where in the domain\n",
    "i_array = np.zeros((n_proc_rows * n_proc_cols), dtype=int)\n",
    "j_array = np.zeros((n_proc_rows * n_proc_cols), dtype=int)\n",
    "# Initialise arrays to signify \n",
    "imax_local_array = np.zeros((n_proc_rows * n_proc_cols), dtype=int)\n",
    "jmax_local_array = np.zeros((n_proc_rows * n_proc_cols), dtype=int)\n",
    "time_array = np.zeros((n_proc_rows * n_proc_cols))\n",
    "\n",
    "for r in range(n_proc_rows):\n",
    "    for c in range(n_proc_cols):\n",
    "        string = np.genfromtxt(path + 'meta/%i_%i_%i_%i_info.txt' % (r,c,iter, n_procs))\n",
    "        i_array[r * n_proc_cols + c] = r\n",
    "        j_array[r * n_proc_cols + c] = c\n",
    "        imax_local_array[r * n_proc_cols + c] = int(string[0])\n",
    "        jmax_local_array[r * n_proc_cols + c] = int(string[1])\n",
    "        time_array[r * n_proc_cols + c] = float(string[2])\n",
    "\n",
    "row_cumsum = np.cumsum(imax_local_array[::n_proc_cols])\n",
    "col_cumsum = np.cumsum(jmax_local_array[0:n_proc_cols])\n",
    "\n",
    "imax_global = int(row_cumsum[-1])\n",
    "jmax_global = int(col_cumsum[-1])\n",
    "matrix = np.zeros((imax_global , jmax_global))\n",
    "matrix_store = np.zeros((iter, imax_global, jmax_global))\n",
    "\n",
    "for it in range(iter):\n",
    "    row_start = 0\n",
    "    line_artist = []\n",
    "    for r in range(n_proc_rows):\n",
    "        row_end = row_cumsum[r]\n",
    "        col_start = 0\n",
    "        for c in range(n_proc_cols):\n",
    "            A = np.genfromtxt(path + 'data/%i_%i_%i.txt' % (r,c,it))\n",
    "            index = r * n_proc_cols + c\n",
    "\n",
    "            col_end = col_cumsum[c]\n",
    "            matrix[row_start : row_end , col_start : col_end] = A.reshape((imax_local_array[index], jmax_local_array[index]))\n",
    "            \n",
    "            plt.plot([col_start, col_end], [row_end, row_end], 'b-', linewidth = 1)\n",
    "            plt.plot([col_end, col_end], [row_start, row_end], 'b-', linewidth = 1)\n",
    "            \n",
    "            col_start = col_end\n",
    "        row_start = row_end   \n",
    "\n",
    "    matrix_store[it, :, :] = matrix\n",
    "\n",
    "plt.title(\"Domain Decomposition for %i x %i environment\" % (imax_global, jmax_global))\n",
    "plt.show()"
   ]
  },
  {
   "cell_type": "code",
   "execution_count": null,
   "metadata": {},
   "outputs": [],
   "source": [
    "def create_animation():\n",
    "    fig = plt.figure()\n",
    "    plt.title('Game of Life')\n",
    "    plt.xlabel('i')\n",
    "    plt.ylabel('j')\n",
    "    imgs = []\n",
    "    \n",
    "    for it in range(iter):\n",
    "        img = plt.imshow(matrix_store[it], 'binary', animated=True)\n",
    "        title = plt.title(\"%i generations\" % it, animated=True)\n",
    "        imgs.append([img, title])    \n",
    "    ani = anim.ArtistAnimation(fig, imgs, interval=50, blit=True)\n",
    "    ani.save('game.mp4')\n",
    "    plt.close(fig)  # prevent final frame plot from showing up inline below\n",
    "\n",
    "    return ani"
   ]
  },
  {
   "cell_type": "code",
   "execution_count": null,
   "metadata": {},
   "outputs": [],
   "source": [
    "print(\"Computational time for Game of Life = %f\" % np.mean(time_array))\n",
    "ani = create_animation()\n",
    "print('Preparing mp4 gif (please wait a moment.)')\n",
    "ani.save('game.mp4')\n",
    "print('Preparing animation (please wait a moment.)')\n",
    "HTML(ani.to_jshtml())"
   ]
  }
 ],
 "metadata": {
  "kernelspec": {
   "display_name": "Python 3",
   "language": "python",
   "name": "python3"
  },
  "language_info": {
   "codemirror_mode": {
    "name": "ipython",
    "version": 3
   },
   "file_extension": ".py",
   "mimetype": "text/x-python",
   "name": "python",
   "nbconvert_exporter": "python",
   "pygments_lexer": "ipython3",
   "version": "3.7.3"
  }
 },
 "nbformat": 4,
 "nbformat_minor": 2
}
